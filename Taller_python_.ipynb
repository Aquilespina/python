{
  "nbformat": 4,
  "nbformat_minor": 0,
  "metadata": {
    "colab": {
      "provenance": [],
      "authorship_tag": "ABX9TyP7dGYssIgFStpl6shFOyYX",
      "include_colab_link": true
    },
    "kernelspec": {
      "name": "python3",
      "display_name": "Python 3"
    },
    "language_info": {
      "name": "python"
    }
  },
  "cells": [
    {
      "cell_type": "markdown",
      "metadata": {
        "id": "view-in-github",
        "colab_type": "text"
      },
      "source": [
        "<a href=\"https://colab.research.google.com/github/Aquilespina/python/blob/main/Taller_python_.ipynb\" target=\"_parent\"><img src=\"https://colab.research.google.com/assets/colab-badge.svg\" alt=\"Open In Colab\"/></a>"
      ]
    },
    {
      "cell_type": "markdown",
      "source": [
        "#Bienvenidos al curso de python\n",
        "###Hoy aprenderemos un poco de como usar python tanto en linea como en escritorio o en celular "
      ],
      "metadata": {
        "id": "mFapL49WLT-8"
      }
    },
    {
      "cell_type": "code",
      "execution_count": 1,
      "metadata": {
        "colab": {
          "base_uri": "https://localhost:8080/"
        },
        "id": "EqLzT-PHK0KY",
        "outputId": "ad629d89-419f-4118-8925-ee2f73fe31ec"
      },
      "outputs": [
        {
          "output_type": "stream",
          "name": "stdout",
          "text": [
            "Hola Mundo\n"
          ]
        }
      ],
      "source": [
        "mensaje= \"Hola Mundo\"\n",
        "print(mensaje)"
      ]
    },
    {
      "cell_type": "code",
      "source": [
        "print(\"\"\"Hola mundo\"\"\")"
      ],
      "metadata": {
        "colab": {
          "base_uri": "https://localhost:8080/"
        },
        "id": "xJyrUjrxLAhP",
        "outputId": "6a8c28c5-e6dc-4364-f923-4e3af8e57ca0"
      },
      "execution_count": 2,
      "outputs": [
        {
          "output_type": "stream",
          "name": "stdout",
          "text": [
            "Hola mundo\n"
          ]
        }
      ]
    },
    {
      "cell_type": "code",
      "source": [
        "type(30.5)"
      ],
      "metadata": {
        "colab": {
          "base_uri": "https://localhost:8080/"
        },
        "id": "GYTHI17CL8fj",
        "outputId": "82cc072c-605a-4a69-f915-2e2dcac0c80b"
      },
      "execution_count": 4,
      "outputs": [
        {
          "output_type": "execute_result",
          "data": {
            "text/plain": [
              "float"
            ]
          },
          "metadata": {},
          "execution_count": 4
        }
      ]
    },
    {
      "cell_type": "code",
      "source": [
        "type(True)"
      ],
      "metadata": {
        "colab": {
          "base_uri": "https://localhost:8080/"
        },
        "id": "HO_xmUj1N375",
        "outputId": "6633c90b-aef9-4784-e3b0-cc12cf8ccd3d"
      },
      "execution_count": 5,
      "outputs": [
        {
          "output_type": "execute_result",
          "data": {
            "text/plain": [
              "bool"
            ]
          },
          "metadata": {},
          "execution_count": 5
        }
      ]
    },
    {
      "cell_type": "code",
      "source": [
        "type(\"Hola Mundo\")"
      ],
      "metadata": {
        "colab": {
          "base_uri": "https://localhost:8080/"
        },
        "id": "ghYBylAIOBZB",
        "outputId": "a39d0973-6825-43cf-f795-501624113d9a"
      },
      "execution_count": 6,
      "outputs": [
        {
          "output_type": "execute_result",
          "data": {
            "text/plain": [
              "str"
            ]
          },
          "metadata": {},
          "execution_count": 6
        }
      ]
    },
    {
      "cell_type": "code",
      "source": [
        "n1=2\n",
        "m1=4 \n",
        "re=n1+m1\n",
        "print(\"El resultado es\",re)"
      ],
      "metadata": {
        "colab": {
          "base_uri": "https://localhost:8080/"
        },
        "id": "gJbQVXSsPAAD",
        "outputId": "a0b06974-24d9-4b00-8fb7-fdb91e3135c0"
      },
      "execution_count": 9,
      "outputs": [
        {
          "output_type": "stream",
          "name": "stdout",
          "text": [
            "El resultado es 6\n"
          ]
        }
      ]
    },
    {
      "cell_type": "code",
      "source": [
        "edad=input(\"Ingresa tu edad\")\n",
        "edad=(int(edad))\n",
        "print(\"Tu edad es :\",edad)"
      ],
      "metadata": {
        "colab": {
          "base_uri": "https://localhost:8080/"
        },
        "id": "i4X83CSfTJBl",
        "outputId": "c19cc039-9739-44df-fb98-a6307b049518"
      },
      "execution_count": 10,
      "outputs": [
        {
          "output_type": "stream",
          "name": "stdout",
          "text": [
            "Ingresa tu edad18\n",
            "Tu edad es : 18\n"
          ]
        }
      ]
    },
    {
      "cell_type": "code",
      "source": [
        "type(30)"
      ],
      "metadata": {
        "colab": {
          "base_uri": "https://localhost:8080/"
        },
        "id": "UQj-lzpaLQE2",
        "outputId": "2d2e5942-3560-4e5a-a20c-5c4094a53d45"
      },
      "execution_count": 3,
      "outputs": [
        {
          "output_type": "execute_result",
          "data": {
            "text/plain": [
              "int"
            ]
          },
          "metadata": {},
          "execution_count": 3
        }
      ]
    },
    {
      "cell_type": "markdown",
      "source": [],
      "metadata": {
        "id": "zVK3nzV2Lsf_"
      }
    }
  ]
}